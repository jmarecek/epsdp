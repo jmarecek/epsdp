{
 "cells": [
  {
   "cell_type": "code",
   "execution_count": 1,
   "metadata": {},
   "outputs": [],
   "source": [
    "import numpy as np\n",
    "\n",
    "from bqp_class import *\n",
    "from sdp_class import *\n",
    "\n",
    "from EPSDP import *\n",
    "\n",
    "import time"
   ]
  },
  {
   "cell_type": "code",
   "execution_count": 2,
   "metadata": {},
   "outputs": [],
   "source": [
    "#init intsnce\n",
    "problem = bqp(\"From File\", filename=\"gka1a.mat\")\n",
    "#problem = bqp(\"Random\", n=500, p=0.2, seed = 0)"
   ]
  },
  {
   "cell_type": "code",
   "execution_count": 74,
   "metadata": {},
   "outputs": [
    {
     "name": "stdout",
     "output_type": "stream",
     "text": [
      "SDP lower_bound = [50152.], SDP upper_bound = 50152.0\n",
      "--- 1.27275586128 seconds ---\n"
     ]
    }
   ],
   "source": [
    "#EPSDP for gkaif instances\n",
    "\n",
    "start_time = time.time()\n",
    "sdp = EPSDP(problem, Penaliser = \"Tsallis\", alpha = 2, maxrounds = 200, rank = 15, maxsteps = 35, sigma=100, gamma = 1.5)#20000, 1.5\n",
    "#sdp = SDP(problem, maxrounds = 1000, rank = 20, maxsteps = 1000)\n",
    "print(sdp)\n",
    "print(\"--- %s seconds ---\" % (time.time() - start_time))"
   ]
  },
  {
   "cell_type": "code",
   "execution_count": null,
   "metadata": {},
   "outputs": [],
   "source": [
    "#SDP for gkaif instances\n",
    "start_time = time.time()\n",
    "sdp = SDP(problem, maxrounds = 200, rank = 15, maxsteps = 1000, method = \"SDP\")#method = \"SDP\"\n",
    "print(sdp)\n",
    "print(\"--- %s seconds ---\" % (time.time() - start_time))"
   ]
  },
  {
   "cell_type": "code",
   "execution_count": 8,
   "metadata": {},
   "outputs": [
    {
     "name": "stdout",
     "output_type": "stream",
     "text": [
      "Optimize a model with 0 rows, 50 columns and 0 nonzeros\n",
      "Model has 156 quadratic objective terms\n",
      "Variable types: 0 continuous, 50 integer (50 binary)\n",
      "Coefficient statistics:\n",
      "  Matrix range     [0e+00, 0e+00]\n",
      "  Objective range  [0e+00, 0e+00]\n",
      "  QObjective range [2e+00, 4e+02]\n",
      "  Bounds range     [1e+00, 1e+00]\n",
      "  RHS range        [0e+00, 0e+00]\n",
      "Found heuristic solution: objective 0.0000000\n",
      "Found heuristic solution: objective -169.0000000\n",
      "Presolve removed 0 rows and 11 columns\n",
      "Presolve time: 0.00s\n",
      "Presolved: 79 rows, 118 columns, 237 nonzeros\n",
      "Found heuristic solution: objective -842.0000000\n",
      "Variable types: 0 continuous, 118 integer (118 binary)\n",
      "Found heuristic solution: objective -2738.000000\n",
      "\n",
      "Root relaxation: objective -3.414000e+03, 29 iterations, 0.00 seconds\n",
      "\n",
      "    Nodes    |    Current Node    |     Objective Bounds      |     Work\n",
      " Expl Unexpl |  Obj  Depth IntInf | Incumbent    BestBd   Gap | It/Node Time\n",
      "\n",
      "*    0     0               0    -3414.000000 -3414.0000  0.00%     -    0s\n",
      "\n",
      "Explored 1 nodes (29 simplex iterations) in 0.04 seconds\n",
      "Thread count was 4 (of 4 available processors)\n",
      "\n",
      "Solution count 5: -3414 -2738 -842 ... -823\n",
      "\n",
      "Optimal solution found (tolerance 1.00e-04)\n",
      "Best objective -3.414000000000e+03, best bound -3.414000000000e+03, gap 0.0000%\n",
      "<gurobi.Model MIP instance bqp: 0 constrs, 50 vars, Parameter changes: LogFile=gurobi.log, CSIdleTimeout=1800>\n",
      "0.0633480548859\n"
     ]
    }
   ],
   "source": [
    "#Gurobi for gkaif Instances\n",
    "\n",
    "problem = problem.BoolFromSpin()\n",
    "\n",
    "\n",
    "import sys\n",
    "#sys.path.insert(0, \"home/mk/.local/lib/python2.7/site-packages/gurobipy/\")\n",
    "from gurobipy import *\n",
    "\n",
    "# Create a new model\n",
    "m = Model(\"bqp\")\n",
    "#print(problem)\n",
    "\n",
    "A = problem.Inter\n",
    "b = problem.Pot\n",
    "c = problem.Const\n",
    "\n",
    "n = len(A)\n",
    "\n",
    "vars = []\n",
    "for j in range(n):\n",
    "    vars.append(m.addVar(vtype=GRB.BINARY))\n",
    "    #m.addConstr(vars[j]*vars[j] == 1)\n",
    "\n",
    "# Populate objective\n",
    "obj = QuadExpr()\n",
    "for i in range(n):\n",
    "    for j in range(n):\n",
    "        if A[i, j] != 0:\n",
    "            obj += A[i, j]*vars[i]*vars[j]\n",
    "for j in range(n):\n",
    "    if b[j] != 0:\n",
    "        obj += b[j]*vars[j]\n",
    "obj += c\n",
    "\n",
    "m.setObjective(obj, GRB.MINIMIZE)\n",
    "\n",
    "# Solve\n",
    "m.optimize()\n",
    "\n",
    "print(m)\n",
    "print(m.Runtime)"
   ]
  },
  {
   "cell_type": "code",
   "execution_count": null,
   "metadata": {},
   "outputs": [],
   "source": []
  }
 ],
 "metadata": {
  "kernelspec": {
   "display_name": "Python 3",
   "language": "python",
   "name": "python3"
  },
  "language_info": {
   "codemirror_mode": {
    "name": "ipython",
    "version": 2
   },
   "file_extension": ".py",
   "mimetype": "text/x-python",
   "name": "python",
   "nbconvert_exporter": "python",
   "pygments_lexer": "ipython2",
   "version": "2.7.15rc1"
  }
 },
 "nbformat": 4,
 "nbformat_minor": 2
}
